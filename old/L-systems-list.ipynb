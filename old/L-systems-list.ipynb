{
 "cells": [
  {
   "cell_type": "code",
   "metadata": {
    "cell_id": "00000-1b76d544-ab1e-48d5-b447-9c8373c033e2",
    "deepnote_to_be_reexecuted": false,
    "source_hash": "7dff16a4",
    "execution_start": 1620899967644,
    "execution_millis": 292,
    "deepnote_cell_type": "code"
   },
   "source": "%matplotlib inline\nimport matplotlib.pyplot as plt\nplt.style.use('bmh')  # Use some nicer default colors\nimport random\nfrom math import isnan\nfrom math import pi, sin, cos\nDEGREES_TO_RADIANS = pi / 180\nLETTER_STRING = 'abcdefghij'",
   "execution_count": null,
   "outputs": []
  },
  {
   "cell_type": "code",
   "metadata": {
    "cell_id": "00001-69182c6f-2c06-4cab-8db6-a224ad510938",
    "deepnote_to_be_reexecuted": false,
    "source_hash": "aa4e95e8",
    "execution_start": 1620899967942,
    "execution_millis": 4,
    "deepnote_cell_type": "code"
   },
   "source": "def plot_coords(coords, bare_plot=False):\n    if bare_plot:\n        # Turns off the axis markers.\n        plt.axis('off')\n    # Ensures equal aspect ratio.\n    plt.gca().set_aspect('equal', 'datalim')\n    # Converts a list of coordinates into \n    # lists of X and Y values, respectively.\n    X, Y = zip(*coords)\n    # Draws the plot.\n    plt.plot(X, Y)",
   "execution_count": null,
   "outputs": []
  },
  {
   "cell_type": "markdown",
   "source": "In this function we can add evolution strategies. I've just added a very simple evolutionary strategy that is not very stochastic or good. It just replaces the value of the first key with 'FA'",
   "metadata": {
    "tags": [],
    "cell_id": "00002-9a9b255a-6cb0-42fa-9413-618c2612ddd6",
    "deepnote_cell_type": "text-cell-p"
   }
  },
  {
   "cell_type": "code",
   "metadata": {
    "tags": [],
    "cell_id": "00003-6051fdb5-f619-4623-a77b-3d333c41d5d8",
    "deepnote_to_be_reexecuted": false,
    "source_hash": "8ccd7e4f",
    "execution_start": 1620899967952,
    "execution_millis": 2,
    "deepnote_cell_type": "code"
   },
   "source": "def point_mutation_transformation(transformations, key):\n    '''\n    change the value of a transformation based on letter\n    '''\n    # generate the letter that we want to change and the letter to replace it with\n    old_letter = random.choice(LETTER_STRING).upper()\n    #old_letter = transformations[key]\n    new_letter = random.choice(LETTER_STRING).upper()\n    print(old_letter, new_letter)\n            \n    # point mutation-like change of transformation rules\n    old_transformation = transformations[key]\n            \n    # replace by other letter(s) random duplication\n    #transformations[key] = old_transformation.replace(old_letter, random.randint(0,4)*new_letter) #CHANGE HERE\n            \n    # replace by other letter(s) for random amount of times with random duplication\n    nr_letter = old_transformation.count(old_letter)\n    transformations[key] = [letter.replace(old_letter, random.randint(0,4)*new_letter, random.randint(0, nr_letter)) for letter in old_transformation] #CHANGE HERE\n            \n    # remove all old_letter values\n    #transformations[key] = old_transformation.replace(old_letter, '') #CHANGE HERE\n            \n    # if a new letter is added to the dict values that is not already a key, add it to the dict\n    if new_letter not in transformations: \n        transformations[new_letter] = transformations[key] *3 #CHANGE HERE",
   "execution_count": null,
   "outputs": []
  },
  {
   "cell_type": "code",
   "metadata": {
    "tags": [],
    "cell_id": "00004-d625b9c4-81dc-4e3e-a555-cd4d4dfd52dd",
    "deepnote_to_be_reexecuted": false,
    "source_hash": "c17f0c44",
    "execution_start": 1620899967956,
    "execution_millis": 4,
    "deepnote_cell_type": "code"
   },
   "source": "def is_letter(transformations, key, index):\n    '''\n    the key is a letter\n    '''\n    new_letter = random.choice(LETTER_STRING).upper()\n\n    #string_conversion = list(transformations[key])\n    #string_conversion[index] = new_letter\n    #new_transformation = \"\".join(string_conversion)\n\n    transformations[key][index] = new_letter\n\n    # if a new letter is added to the dict values that is not already a key, add it to the dict\n    if new_letter not in transformations: \n        transformations[new_letter] = transformations[key] *3 #CHANGE HERE\n\n    return",
   "execution_count": null,
   "outputs": []
  },
  {
   "cell_type": "code",
   "metadata": {
    "tags": [],
    "cell_id": "00004-7bd567a4-9ccd-4d92-95b1-dcb508604da4",
    "deepnote_to_be_reexecuted": false,
    "source_hash": "ce087b26",
    "execution_start": 1620899967961,
    "execution_millis": 2,
    "deepnote_cell_type": "code"
   },
   "source": "def is_bracket_left(transformations, key, index):\n    '''\n    the key is a left bracket\n    '''\n    pass",
   "execution_count": null,
   "outputs": []
  },
  {
   "cell_type": "code",
   "metadata": {
    "tags": [],
    "cell_id": "00005-9d2e4e2b-3cdb-48a2-b308-5a6298b958f2",
    "deepnote_to_be_reexecuted": false,
    "source_hash": "e2c20e01",
    "execution_start": 1620899967988,
    "execution_millis": 0,
    "deepnote_cell_type": "code"
   },
   "source": "def is_bracket_right(transformations, key, index):\n    '''\n    the key is a right bracket\n    '''\n    pass",
   "execution_count": null,
   "outputs": []
  },
  {
   "cell_type": "code",
   "metadata": {
    "tags": [],
    "cell_id": "00006-74620074-b8e2-4578-9db4-1bd5575cba7f",
    "deepnote_to_be_reexecuted": false,
    "source_hash": "34a781c6",
    "execution_start": 1620899967988,
    "execution_millis": 1,
    "deepnote_cell_type": "code"
   },
   "source": "def is_plus_minus(transformations, key, index):\n    '''\n    the key is a plus or minus\n    '''\n    pass",
   "execution_count": null,
   "outputs": []
  },
  {
   "cell_type": "code",
   "metadata": {
    "cell_id": "00002-cecbcdef-b7c5-48c9-b88e-80da659de758",
    "deepnote_to_be_reexecuted": false,
    "source_hash": "b6818366",
    "execution_start": 1620899967989,
    "execution_millis": 0,
    "deepnote_cell_type": "code"
   },
   "source": "def evolve_transformations(transformations, p):\n    '''\n    loops over the transformations and changes them \n    '''\n    keys = list(transformations.keys())\n    # loop over keys from transformations dict and change the value of that key with chance p\n    for i in range(len(keys)):\n        if random.random() > p: \n            key = keys[i]\n            \n            point_mutation_transformation(transformations, key)\n            '''\n            # get random index in transformations key\n            index = random.randint(0, len(transformations[key])-1)\n            value = transformations[key][index]\n\n            if value.isalpha(): is_letter(transformations, key, index)\n            elif value == '[' : is_bracket_left(transformations, key, index)\n            elif value == ']' : is_bracket_right(transformations, key, index)\n            elif value == '+' or '-' : is_plus_minus(transformations, key, index)\n            else: pass \n        \t'''\n    return transformations",
   "execution_count": null,
   "outputs": []
  },
  {
   "cell_type": "code",
   "metadata": {
    "cell_id": "00003-f909acdc-4471-44bf-b384-4beb5e104a77",
    "deepnote_to_be_reexecuted": false,
    "source_hash": "9bc54a5c",
    "execution_start": 1620899967994,
    "execution_millis": 1,
    "deepnote_cell_type": "code"
   },
   "source": "def transform_sequence(sequence, transformations, evolve=False):\n    # print(transformations)\n    keys_values = transformations.items()\n\n    transformations = {key: str(value) for key, value in keys_values}\n    print('before join', sequence)\n\n    #sequence.replace(, )\n    #for index, c in enumerate(sequence):\n    #    sequence[index] = transformations.get(c, c)\n    #sequence = ''.join(transformations.get(c, c) for c in sequence)\n    print(type(sequence))\n    sequence = [transformations.get(c, c) for c in sequence]\n\n    print('trans', transformations)\n\n    print('after join', sequence)\n\n    print('dict type', type(transformations[keys] for keys in keys_values))\n    #if evolve:\n    #    sequence = sequence.split()\n    return sequence\n    #return [transformations.get(c, c) for c in sequence]",
   "execution_count": null,
   "outputs": []
  },
  {
   "cell_type": "code",
   "metadata": {
    "cell_id": "00004-23a2b770-8542-4c9b-b092-b8078180a807",
    "deepnote_to_be_reexecuted": false,
    "source_hash": "9f991332",
    "execution_start": 1620899967995,
    "execution_millis": 4,
    "deepnote_cell_type": "code"
   },
   "source": "def transform_multiple_evolve(sequence, transformations, iterations, p):\n    '''Tranforms for multiple iterations'''\n    for _ in range(iterations):\n        #print(sequence, transformations, '\\n')\n        transformations = evolve_transformations(transformations, p)\n        # print('sequence:', sequence)\n        sequence = transform_sequence(sequence, transformations, evolve=True)\n    print(type(sequence))\n    #print('before join', sequence)\n    sequence = ''.join(sequence)\n    #print('after join', sequence)\n    return sequence",
   "execution_count": null,
   "outputs": []
  },
  {
   "cell_type": "code",
   "metadata": {
    "cell_id": "00005-c578ce31-0a52-4751-945e-4551210f0dbf",
    "deepnote_to_be_reexecuted": false,
    "source_hash": "bd7c2c23",
    "execution_start": 1620899968020,
    "execution_millis": 0,
    "deepnote_cell_type": "code"
   },
   "source": "def transform_multiple(sequence, transformations, iterations):\n    '''Tranforms for multiple iterations'''\n    for _ in range(iterations):\n        sequence = transform_sequence(sequence, transformations)\n    return sequence",
   "execution_count": null,
   "outputs": []
  },
  {
   "cell_type": "code",
   "metadata": {
    "cell_id": "00006-232e2b9c-9af8-4680-8699-0eb6d24d4d14",
    "deepnote_to_be_reexecuted": false,
    "source_hash": "925850e3",
    "execution_start": 1620899968021,
    "execution_millis": 0,
    "deepnote_cell_type": "code"
   },
   "source": "def branching_turtle_to_coords(turtle_program, turn_amount=45):\n    saved_states = list()\n    state = (0, 0, 90)\n    yield (0, 0)\n\n    print('turtle', turtle_program)\n\n\n    for command in turtle_program:\n        x, y, angle = state\n\n        if command.lower() in LETTER_STRING:        # Move forward (matches a-j and A-J)\n            state = (x - cos(angle * DEGREES_TO_RADIANS),\n                     y + sin(angle * DEGREES_TO_RADIANS),\n                     angle)\n            \n            if command.islower():                  # Add a break in the line if command matches a-j\n                yield (float('nan'), float('nan'))\n\n            yield (state[0], state[1])\n\n        elif command == '+':                       # Turn clockwise\n            state = (x, y, angle + turn_amount)\n\n        elif command == '-':                       # Turn counterclockwise\n            state = (x, y, angle - turn_amount)\n\n        elif command == '[':                       # Remember current state\n            saved_states.append(state)\n\n        elif command == ']':                       # Return to previous state\n            state = saved_states.pop()\n            yield (float('nan'), float('nan'))\n            x, y, _ = state\n            yield (x, y)\n\n        # Note: We silently ignore unknown commands",
   "execution_count": null,
   "outputs": []
  },
  {
   "cell_type": "code",
   "metadata": {
    "cell_id": "00007-327f9de0-f908-4c9e-ae44-8eabb2d49a0a",
    "deepnote_to_be_reexecuted": false,
    "source_hash": "64e7c932",
    "execution_start": 1620899968021,
    "execution_millis": 1,
    "deepnote_cell_type": "code"
   },
   "source": "def l_plot_evolve(axiom, transformations, iterations=0, angle=45, p=0.5):\n    turtle_program = transform_multiple_evolve(axiom, transformations, iterations, p)\n    coords = branching_turtle_to_coords(turtle_program, angle)\n    plot_coords(coords, bare_plot=True) # bare_plot removes the axis labels",
   "execution_count": null,
   "outputs": []
  },
  {
   "cell_type": "code",
   "metadata": {
    "cell_id": "00008-4a71d8df-c8df-4825-9202-8015728a987d",
    "deepnote_to_be_reexecuted": false,
    "source_hash": "298a1848",
    "execution_start": 1620899968024,
    "execution_millis": 3,
    "deepnote_cell_type": "code"
   },
   "source": "def l_plot(axiom, transformations, iterations=0, angle=45):\n    turtle_program = transform_multiple(axiom, transformations, iterations)\n    coords = branching_turtle_to_coords(turtle_program, angle)\n    plot_coords(coords, bare_plot=True) # bare_plot removes the axis labels",
   "execution_count": null,
   "outputs": []
  },
  {
   "cell_type": "markdown",
   "source": "Here you can see the difference between with and without evolution. If you run the evolve function a few times you'll see that it changes, the non-evolved one is deterministic. ",
   "metadata": {
    "tags": [],
    "cell_id": "00010-69d570d1-62a9-48fe-93bd-ebabfabb82c5",
    "deepnote_cell_type": "text-cell-p"
   }
  },
  {
   "cell_type": "markdown",
   "source": "Why it doesn't work: The program replaces 'A' by a list: ['F',&nbsp;'[',&nbsp;'+',&nbsp;'A',&nbsp;'F',&nbsp;'-',&nbsp;'[',&nbsp;'A',&nbsp;']',&nbsp;'-',&nbsp;'-',&nbsp;'A',&nbsp;']',&nbsp;'[',&nbsp;'-',&nbsp;'-',&nbsp;'-',&nbsp;'A',&nbsp;']']. This creates a nested list: [['F',&nbsp;'[',&nbsp;'+',&nbsp;'A',&nbsp;'F',&nbsp;'-',&nbsp;'[',&nbsp;'A',&nbsp;']',&nbsp;'-',&nbsp;'-',&nbsp;'A',&nbsp;']',&nbsp;'[',&nbsp;'-',&nbsp;'-',&nbsp;'-',&nbsp;'A',&nbsp;']']] and our program does not look for nested lists. So, when we replace A, we need to remove the outer brackets of the list. We would need to flatten the list at every iteration, so it is easier to just use strings instead of lists. ",
   "metadata": {
    "tags": [],
    "cell_id": "00016-3ac25f83-6044-4bad-a7c3-616ddec1e176",
    "deepnote_cell_type": "text-cell-p"
   }
  },
  {
   "cell_type": "code",
   "metadata": {
    "cell_id": "00009-915ea8bc-6c41-470f-890e-efef1dcb9bed",
    "deepnote_to_be_reexecuted": false,
    "source_hash": "a796724d",
    "execution_start": 1620899968033,
    "execution_millis": 62,
    "deepnote_cell_type": "code"
   },
   "source": "l_plot_evolve(['A'], {'F': ['F', 'F'], 'A': ['F', '[', '+', 'A', 'F', '-', '[', 'A', ']', '-', '-', 'A', ']', '[', '-', '-', '-', 'A', ']']}, 2\n, 22.5)",
   "execution_count": null,
   "outputs": [
    {
     "name": "stdout",
     "text": "A B\nF F\nbefore join ['A']\n<class 'list'>\ntrans {'F': \"['F', 'F']\", 'A': \"['F', '[', '+', 'A', 'F', '-', '[', 'A', ']', '-', '-', 'A', ']', '[', '-', '-', '-', 'A', ']']\", 'B': \"['F', 'F', 'F', 'F', 'F', 'F']\"}\nafter join [\"['F', '[', '+', 'A', 'F', '-', '[', 'A', ']', '-', '-', 'A', ']', '[', '-', '-', '-', 'A', ']']\"]\ndict type <class 'generator'>\nE I\nI J\nbefore join [\"['F', '[', '+', 'A', 'F', '-', '[', 'A', ']', '-', '-', 'A', ']', '[', '-', '-', '-', 'A', ']']\"]\n<class 'list'>\ntrans {'F': \"['F', 'F']\", 'A': \"['F', '[', '+', 'A', 'F', '-', '[', 'A', ']', '-', '-', 'A', ']', '[', '-', '-', '-', 'A', ']']\", 'B': \"['F', 'F', 'F', 'F', 'F', 'F']\", 'I': \"['F', 'F', 'F', 'F', 'F', 'F']\", 'J': \"['F', '[', '+', 'A', 'F', '-', '[', 'A', ']', '-', '-', 'A', ']', '[', '-', '-', '-', 'A', ']', 'F', '[', '+', 'A', 'F', '-', '[', 'A', ']', '-', '-', 'A', ']', '[', '-', '-', '-', 'A', ']', 'F', '[', '+', 'A', 'F', '-', '[', 'A', ']', '-', '-', 'A', ']', '[', '-', '-', '-', 'A', ']']\"}\nafter join [\"['F', '[', '+', 'A', 'F', '-', '[', 'A', ']', '-', '-', 'A', ']', '[', '-', '-', '-', 'A', ']']\"]\ndict type <class 'generator'>\n<class 'list'>\nturtle ['F', '[', '+', 'A', 'F', '-', '[', 'A', ']', '-', '-', 'A', ']', '[', '-', '-', '-', 'A', ']']\n",
     "output_type": "stream"
    },
    {
     "data": {
      "text/plain": "<Figure size 640x480 with 1 Axes>",
      "image/png": "[encoded data removed]"
     },
     "metadata": {
      "image/png": {
       "width": 515,
       "height": 389
      }
     },
     "output_type": "display_data"
    }
   ]
  },
  {
   "cell_type": "code",
   "metadata": {
    "cell_id": "00010-bacca992-4a45-44ec-9a4c-d076b96778b6",
    "deepnote_to_be_reexecuted": false,
    "source_hash": "aaedd8e2",
    "execution_start": 1620899968098,
    "execution_millis": 47,
    "deepnote_cell_type": "code"
   },
   "source": "l_plot('A', {'F': 'FF', 'A': 'F[+AF-[A]--A][---A]'}, 5, 22.5)",
   "execution_count": null,
   "outputs": [
    {
     "name": "stdout",
     "text": "before join A\n<class 'str'>\ntrans {'F': 'FF', 'A': 'F[+AF-[A]--A][---A]'}\nafter join ['F[+AF-[A]--A][---A]']\ndict type <class 'generator'>\nbefore join ['F[+AF-[A]--A][---A]']\n<class 'list'>\ntrans {'F': 'FF', 'A': 'F[+AF-[A]--A][---A]'}\nafter join ['F[+AF-[A]--A][---A]']\ndict type <class 'generator'>\nbefore join ['F[+AF-[A]--A][---A]']\n<class 'list'>\ntrans {'F': 'FF', 'A': 'F[+AF-[A]--A][---A]'}\nafter join ['F[+AF-[A]--A][---A]']\ndict type <class 'generator'>\nbefore join ['F[+AF-[A]--A][---A]']\n<class 'list'>\ntrans {'F': 'FF', 'A': 'F[+AF-[A]--A][---A]'}\nafter join ['F[+AF-[A]--A][---A]']\ndict type <class 'generator'>\nbefore join ['F[+AF-[A]--A][---A]']\n<class 'list'>\ntrans {'F': 'FF', 'A': 'F[+AF-[A]--A][---A]'}\nafter join ['F[+AF-[A]--A][---A]']\ndict type <class 'generator'>\nturtle ['F[+AF-[A]--A][---A]']\n",
     "output_type": "stream"
    },
    {
     "data": {
      "text/plain": "<Figure size 640x480 with 1 Axes>",
      "image/png": "[encoded data removed]"
     },
     "metadata": {
      "image/png": {
       "width": 515,
       "height": 389
      }
     },
     "output_type": "display_data"
    }
   ]
  },
  {
   "cell_type": "markdown",
   "source": "<a style='text-decoration:none;line-height:16px;display:flex;color:#5B5B62;padding:10px;justify-content:end;' href='https://deepnote.com?utm_source=created-in-deepnote-cell&projectId=48486dc9-a1a6-4dac-ab77-4156e0b947fb' target=\"_blank\">\n<img alt='Created in deepnote.com' style='display:inline;max-height:16px;margin:0px;margin-right:7.5px;' src='data:image/svg+xml;base64,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' > </img>\nCreated in <span style='font-weight:600;margin-left:4px;'>Deepnote</span></a>",
   "metadata": {
    "tags": [],
    "created_in_deepnote_cell": true,
    "deepnote_cell_type": "markdown"
   }
  }
 ],
 "nbformat": 4,
 "nbformat_minor": 4,
 "metadata": {
  "kernelspec": {
   "display_name": "Python 3",
   "language": "python",
   "name": "python3"
  },
  "language_info": {
   "codemirror_mode": {
    "name": "ipython",
    "version": 3
   },
   "file_extension": ".py",
   "mimetype": "text/x-python",
   "name": "python",
   "nbconvert_exporter": "python",
   "pygments_lexer": "ipython3",
   "version": "3.8.3"
  },
  "deepnote_notebook_id": "8147ac4d-df0d-47d9-8708-e1c403bf118c",
  "deepnote": {},
  "deepnote_execution_queue": []
 }
}