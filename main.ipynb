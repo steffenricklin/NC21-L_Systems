{
 "cells": [
  {
   "cell_type": "code",
   "metadata": {
    "tags": [],
    "cell_id": "00000-022e06b3-0ea0-4dd9-a8db-2203a61d467b",
    "deepnote_to_be_reexecuted": false,
    "source_hash": "3bd5fbb3",
    "execution_start": 1621608464587,
    "execution_millis": 44,
    "deepnote_cell_type": "code"
   },
   "source": "# Start writing code here...\n",
   "execution_count": 1,
   "outputs": []
  },
  {
   "cell_type": "markdown",
   "source": "",
   "metadata": {
    "tags": [],
    "cell_id": "00001-8d005439-e147-445e-b864-a69c28c59193",
    "deepnote_cell_type": "markdown"
   }
  },
  {
   "cell_type": "code",
   "metadata": {
    "tags": [],
    "cell_id": "00002-93f8b8f0-29c0-4b29-921c-58c5fe8ed3c5",
    "deepnote_to_be_reexecuted": false,
    "source_hash": "76b661df",
    "execution_start": 1621608464631,
    "execution_millis": 493,
    "deepnote_cell_type": "code"
   },
   "source": "# imports\n## general imports\n%matplotlib inline\nimport numpy as np\n\n## local imports\nfrom src.ea import EA\nfrom src.L_system import LSystem\nfrom src.turtle import plot_coords, branching_turtle_to_coords\nfrom src.utils import turn_coords_to_numpy\n",
   "execution_count": 2,
   "outputs": []
  },
  {
   "cell_type": "markdown",
   "source": "#### steps for for a main run\n(structure taken from slide 13, lecture 1)\n-  initialize the population with candidate L-Systems\n- pass the system(s) to the EA\n    - evaluate the quality of each candidate\n    - repeat until termination condition is satisfied:\n        - select candidate solutions for reproduction\n        - mutate the resulting candidates\n        - evaluate new candidates\n        - select candidates for the next generation\n",
   "metadata": {
    "tags": [],
    "cell_id": "00003-3dc7f90b-ed4d-4dd1-ac39-c0bdb74655b3",
    "deepnote_cell_type": "markdown"
   }
  },
  {
   "cell_type": "code",
   "metadata": {
    "tags": [],
    "cell_id": "00004-8b4ab380-cd97-4835-a894-315ec0c0b886",
    "deepnote_to_be_reexecuted": false,
    "source_hash": "771ac636",
    "execution_start": 1621608543404,
    "execution_millis": 964,
    "deepnote_cell_type": "code"
   },
   "source": "\n\n#goal parameters\n\naxiom = 'A'\ntransformations = {'F': 'FF', 'A': 'F[+AF-[A]--A][---A]'} \niterations = 5\nangle = 22.5\ngoal_system = LSystem(axiom, transformations)\ngoal_system.transform_multiple(iterations)\ngoal_program = goal_system.sequence\ncoords_g = branching_turtle_to_coords(goal_program, angle)\nX,Y = zip(*coords_g)\ngoal_nump = turn_coords_to_numpy(X,Y)\n#ensure that it is not RGB anymore \ngoal_img =  np.reshape(goal_nump[:,:,0],(480,640,1))\n\n\ndef run(axiom='A', rules={'F': 'FF', 'A': 'F[+AF-[A]--A][---A]'}, iterations=5, angle=22.5):\n    # init L-system\n    system_zero = LSystem(axiom, rules) # TODO: make a instance of an l-system with the parameters above\n\n    # pass to EA\n    ea = EA(system_zero, goal_img)\n    turtles = ea.runEvolutions(iterations)\n    #best = turtles.getBest(1)\n    best = turtles[0].sequence\n\n    # show results\n    coords = branching_turtle_to_coords(best, angle)\n    plot_coords(coords, bare_plot=True) # bare_plot removes the axis labels\n\nrun()",
   "execution_count": 4,
   "outputs": [
    {
     "name": "stdout",
     "text": "turtle FFFFFFFFFFFFFFFF[+FFFFFFFF[+FFFF[+FF[+F[+AF-[A]--A][---A]FF-[F[+AF-[A]--A][---A]]--F[+AF-[A]--A][---A]][---F[+AF-[A]--A][---A]]FFFF-[FF[+F[+AF-[A]--A][---A]FF-[F[+AF-[A]--A][---A]]--F[+AF-[A]--A][---A]][---F[+AF-[A]--A][---A]]]--FF[+F[+AF-[A]--A][---A]FF-[F[+AF-[A]--A][---A]]--F[+AF-[A]--A][---A]][---F[+AF-[A]--A][---A]]][---FF[+F[+AF-[A]--A][---A]FF-[F[+AF-[A]--A][---A]]--F[+AF-[A]--A][---A]][---F[+AF-[A]--A][---A]]]FFFFFFFF-[FFFF[+FF[+F[+AF-[A]--A][---A]FF-[F[+AF-[A]--A][---A]]--F[+AF-[A]--A][---A]][---F[+AF-[A]--A][---A]]FFFF-[FF[+F[+AF-[A]--A][---A]FF-[F[+AF-[A]--A][---A]]--F[+AF-[A]--A][---A]][---F[+AF-[A]--A][---A]]]--FF[+F[+AF-[A]--A][---A]FF-[F[+AF-[A]--A][---A]]--F[+AF-[A]--A][---A]][---F[+AF-[A]--A][---A]]][---FF[+F[+AF-[A]--A][---A]FF-[F[+AF-[A]--A][---A]]--F[+AF-[A]--A][---A]][---F[+AF-[A]--A][---A]]]]--FFFF[+FF[+F[+AF-[A]--A][---A]FF-[F[+AF-[A]--A][---A]]--F[+AF-[A]--A][---A]][---F[+AF-[A]--A][---A]]FFFF-[FF[+F[+AF-[A]--A][---A]FF-[F[+AF-[A]--A][---A]]--F[+AF-[A]--A][---A]][---F[+AF-[A]--A][---A]]]--FF[+F[+AF-[A]--A][---A]FF-[F[+AF-[A]--A][---A]]--F[+AF-[A]--A][---A]][---F[+AF-[A]--A][---A]]][---FF[+F[+AF-[A]--A][---A]FF-[F[+AF-[A]--A][---A]]--F[+AF-[A]--A][---A]][---F[+AF-[A]--A][---A]]]][---FFFF[+FF[+F[+AF-[A]--A][---A]FF-[F[+AF-[A]--A][---A]]--F[+AF-[A]--A][---A]][---F[+AF-[A]--A][---A]]FFFF-[FF[+F[+AF-[A]--A][---A]FF-[F[+AF-[A]--A][---A]]--F[+AF-[A]--A][---A]][---F[+AF-[A]--A][---A]]]--FF[+F[+AF-[A]--A][---A]FF-[F[+AF-[A]--A][---A]]--F[+AF-[A]--A][---A]][---F[+AF-[A]--A][---A]]][---FF[+F[+AF-[A]--A][---A]FF-[F[+AF-[A]--A][---A]]--F[+AF-[A]--A][---A]][---F[+AF-[A]--A][---A]]]]FFFFFFFFFFFFFFFF-[FFFFFFFF[+FFFF[+FF[+F[+AF-[A]--A][---A]FF-[F[+AF-[A]--A][---A]]--F[+AF-[A]--A][---A]][---F[+AF-[A]--A][---A]]FFFF-[FF[+F[+AF-[A]--A][---A]FF-[F[+AF-[A]--A][---A]]--F[+AF-[A]--A][---A]][---F[+AF-[A]--A][---A]]]--FF[+F[+AF-[A]--A][---A]FF-[F[+AF-[A]--A][---A]]--F[+AF-[A]--A][---A]][---F[+AF-[A]--A][---A]]][---FF[+F[+AF-[A]--A][---A]FF-[F[+AF-[A]--A][---A]]--F[+AF-[A]--A][---A]][---F[+AF-[A]--A][---A]]]FFFFFFFF-[FFFF[+FF[+F[+AF-[A]--A][---A]FF-[F[+AF-[A]--A][---A]]--F[+AF-[A]--A][---A]][---F[+AF-[A]--A][---A]]FFFF-[FF[+F[+AF-[A]--A][---A]FF-[F[+AF-[A]--A][---A]]--F[+AF-[A]--A][---A]][---F[+AF-[A]--A][---A]]]--FF[+F[+AF-[A]--A][---A]FF-[F[+AF-[A]--A][---A]]--F[+AF-[A]--A][---A]][---F[+AF-[A]--A][---A]]][---FF[+F[+AF-[A]--A][---A]FF-[F[+AF-[A]--A][---A]]--F[+AF-[A]--A][---A]][---F[+AF-[A]--A][---A]]]]--FFFF[+FF[+F[+AF-[A]--A][---A]FF-[F[+AF-[A]--A][---A]]--F[+AF-[A]--A][---A]][---F[+AF-[A]--A][---A]]FFFF-[FF[+F[+AF-[A]--A][---A]FF-[F[+AF-[A]--A][---A]]--F[+AF-[A]--A][---A]][---F[+AF-[A]--A][---A]]]--FF[+F[+AF-[A]--A][---A]FF-[F[+AF-[A]--A][---A]]--F[+AF-[A]--A][---A]][---F[+AF-[A]--A][---A]]][---FF[+F[+AF-[A]--A][---A]FF-[F[+AF-[A]--A][---A]]--F[+AF-[A]--A][---A]][---F[+AF-[A]--A][---A]]]][---FFFF[+FF[+F[+AF-[A]--A][---A]FF-[F[+AF-[A]--A][---A]]--F[+AF-[A]--A][---A]][---F[+AF-[A]--A][---A]]FFFF-[FF[+F[+AF-[A]--A][---A]FF-[F[+AF-[A]--A][---A]]--F[+AF-[A]--A][---A]][---F[+AF-[A]--A][---A]]]--FF[+F[+AF-[A]--A][---A]FF-[F[+AF-[A]--A][---A]]--F[+AF-[A]--A][---A]][---F[+AF-[A]--A][---A]]][---FF[+F[+AF-[A]--A][---A]FF-[F[+AF-[A]--A][---A]]--F[+AF-[A]--A][---A]][---F[+AF-[A]--A][---A]]]]]--FFFFFFFF[+FFFF[+FF[+F[+AF-[A]--A][---A]FF-[F[+AF-[A]--A][---A]]--F[+AF-[A]--A][---A]][---F[+AF-[A]--A][---A]]FFFF-[FF[+F[+AF-[A]--A][---A]FF-[F[+AF-[A]--A][---A]]--F[+AF-[A]--A][---A]][---F[+AF-[A]--A][---A]]]--FF[+F[+AF-[A]--A][---A]FF-[F[+AF-[A]--A][---A]]--F[+AF-[A]--A][---A]][---F[+AF-[A]--A][---A]]][---FF[+F[+AF-[A]--A][---A]FF-[F[+AF-[A]--A][---A]]--F[+AF-[A]--A][---A]][---F[+AF-[A]--A][---A]]]FFFFFFFF-[FFFF[+FF[+F[+AF-[A]--A][---A]FF-[F[+AF-[A]--A][---A]]--F[+AF-[A]--A][---A]][---F[+AF-[A]--A][---A]]FFFF-[FF[+F[+AF-[A]--A][---A]FF-[F[+AF-[A]--A][---A]]--F[+AF-[A]--A][---A]][---F[+AF-[A]--A][---A]]]--FF[+F[+AF-[A]--A][---A]FF-[F[+AF-[A]--A][---A]]--F[+AF-[A]--A][---A]][---F[+AF-[A]--A][---A]]][---FF[+F[+AF-[A]--A][---A]FF-[F[+AF-[A]--A][---A]]--F[+AF-[A]--A][---A]][---F[+AF-[A]--A][---A]]]]--FFFF[+FF[+F[+AF-[A]--A][---A]FF-[F[+AF-[A]--A][---A]]--F[+AF-[A]--A][---A]][---F[+AF-[A]--A][---A]]FFFF-[FF[+F[+AF-[A]--A][---A]FF-[F[+AF-[A]--A][---A]]--F[+AF-[A]--A][---A]][---F[+AF-[A]--A][---A]]]--FF[+F[+AF-[A]--A][---A]FF-[F[+AF-[A]--A][---A]]--F[+AF-[A]--A][---A]][---F[+AF-[A]--A][---A]]][---FF[+F[+AF-[A]--A][---A]FF-[F[+AF-[A]--A][---A]]--F[+AF-[A]--A][---A]][---F[+AF-[A]--A][---A]]]][---FFFF[+FF[+F[+AF-[A]--A][---A]FF-[F[+AF-[A]--A][---A]]--F[+AF-[A]--A][---A]][---F[+AF-[A]--A][---A]]FFFF-[FF[+F[+AF-[A]--A][---A]FF-[F[+AF-[A]--A][---A]]--F[+AF-[A]--A][---A]][---F[+AF-[A]--A][---A]]]--FF[+F[+AF-[A]--A][---A]FF-[F[+AF-[A]--A][---A]]--F[+AF-[A]--A][---A]][---F[+AF-[A]--A][---A]]][---FF[+F[+AF-[A]--A][---A]FF-[F[+AF-[A]--A][---A]]--F[+AF-[A]--A][---A]][---F[+AF-[A]--A][---A]]]]][---FFFFFFFF[+FFFF[+FF[+F[+AF-[A]--A][---A]FF-[F[+AF-[A]--A][---A]]--F[+AF-[A]--A][---A]][---F[+AF-[A]--A][---A]]FFFF-[FF[+F[+AF-[A]--A][---A]FF-[F[+AF-[A]--A][---A]]--F[+AF-[A]--A][---A]][---F[+AF-[A]--A][---A]]]--FF[+F[+AF-[A]--A][---A]FF-[F[+AF-[A]--A][---A]]--F[+AF-[A]--A][---A]][---F[+AF-[A]--A][---A]]][---FF[+F[+AF-[A]--A][---A]FF-[F[+AF-[A]--A][---A]]--F[+AF-[A]--A][---A]][---F[+AF-[A]--A][---A]]]FFFFFFFF-[FFFF[+FF[+F[+AF-[A]--A][---A]FF-[F[+AF-[A]--A][---A]]--F[+AF-[A]--A][---A]][---F[+AF-[A]--A][---A]]FFFF-[FF[+F[+AF-[A]--A][---A]FF-[F[+AF-[A]--A][---A]]--F[+AF-[A]--A][---A]][---F[+AF-[A]--A][---A]]]--FF[+F[+AF-[A]--A][---A]FF-[F[+AF-[A]--A][---A]]--F[+AF-[A]--A][---A]][---F[+AF-[A]--A][---A]]][---FF[+F[+AF-[A]--A][---A]FF-[F[+AF-[A]--A][---A]]--F[+AF-[A]--A][---A]][---F[+AF-[A]--A][---A]]]]--FFFF[+FF[+F[+AF-[A]--A][---A]FF-[F[+AF-[A]--A][---A]]--F[+AF-[A]--A][---A]][---F[+AF-[A]--A][---A]]FFFF-[FF[+F[+AF-[A]--A][---A]FF-[F[+AF-[A]--A][---A]]--F[+AF-[A]--A][---A]][---F[+AF-[A]--A][---A]]]--FF[+F[+AF-[A]--A][---A]FF-[F[+AF-[A]--A][---A]]--F[+AF-[A]--A][---A]][---F[+AF-[A]--A][---A]]][---FF[+F[+AF-[A]--A][---A]FF-[F[+AF-[A]--A][---A]]--F[+AF-[A]--A][---A]][---F[+AF-[A]--A][---A]]]][---FFFF[+FF[+F[+AF-[A]--A][---A]FF-[F[+AF-[A]--A][---A]]--F[+AF-[A]--A][---A]][---F[+AF-[A]--A][---A]]FFFF-[FF[+F[+AF-[A]--A][---A]FF-[F[+AF-[A]--A][---A]]--F[+AF-[A]--A][---A]][---F[+AF-[A]--A][---A]]]--FF[+F[+AF-[A]--A][---A]FF-[F[+AF-[A]--A][---A]]--F[+AF-[A]--A][---A]][---F[+AF-[A]--A][---A]]][---FF[+F[+AF-[A]--A][---A]FF-[F[+AF-[A]--A][---A]]--F[+AF-[A]--A][---A]][---F[+AF-[A]--A][---A]]]]]\nturtle A\nturtle A\nturtle A\nturtle A\nturtle A\nturtle A\nturtle A\n",
     "output_type": "stream"
    },
    {
     "data": {
      "text/plain": "<Figure size 640x480 with 1 Axes>",
      "image/png": "[encoded data removed]"
     },
     "metadata": {
      "image/png": {
       "width": 515,
       "height": 389
      }
     },
     "output_type": "display_data"
    }
   ]
  },
  {
   "cell_type": "code",
   "metadata": {
    "tags": [],
    "cell_id": "00007-be3c63cd-112b-4237-ad23-b93d40ad65df",
    "deepnote_to_be_reexecuted": true,
    "source_hash": "b623e53d",
    "deepnote_cell_type": "code"
   },
   "source": "",
   "execution_count": null,
   "outputs": []
  },
  {
   "cell_type": "markdown",
   "source": "<a style='text-decoration:none;line-height:16px;display:flex;color:#5B5B62;padding:10px;justify-content:end;' href='https://deepnote.com?utm_source=created-in-deepnote-cell&projectId=48486dc9-a1a6-4dac-ab77-4156e0b947fb' target=\"_blank\">\n<img alt='Created in deepnote.com' style='display:inline;max-height:16px;margin:0px;margin-right:7.5px;' src='data:image/svg+xml;base64,PD94bWwgdmVyc2lvbj0iMS4wIiBlbmNvZGluZz0iVVRGLTgiPz4KPHN2ZyB3aWR0aD0iODBweCIgaGVpZ2h0PSI4MHB4IiB2aWV3Qm94PSIwIDAgODAgODAiIHZlcnNpb249IjEuMSIgeG1sbnM9Imh0dHA6Ly93d3cudzMub3JnLzIwMDAvc3ZnIiB4bWxuczp4bGluaz0iaHR0cDovL3d3dy53My5vcmcvMTk5OS94bGluayI+CiAgICA8IS0tIEdlbmVyYXRvcjogU2tldGNoIDU0LjEgKDc2NDkwKSAtIGh0dHBzOi8vc2tldGNoYXBwLmNvbSAtLT4KICAgIDx0aXRsZT5Hcm91cCAzPC90aXRsZT4KICAgIDxkZXNjPkNyZWF0ZWQgd2l0aCBTa2V0Y2guPC9kZXNjPgogICAgPGcgaWQ9IkxhbmRpbmciIHN0cm9rZT0ibm9uZSIgc3Ryb2tlLXdpZHRoPSIxIiBmaWxsPSJub25lIiBmaWxsLXJ1bGU9ImV2ZW5vZGQiPgogICAgICAgIDxnIGlkPSJBcnRib2FyZCIgdHJhbnNmb3JtPSJ0cmFuc2xhdGUoLTEyMzUuMDAwMDAwLCAtNzkuMDAwMDAwKSI+CiAgICAgICAgICAgIDxnIGlkPSJHcm91cC0zIiB0cmFuc2Zvcm09InRyYW5zbGF0ZSgxMjM1LjAwMDAwMCwgNzkuMDAwMDAwKSI+CiAgICAgICAgICAgICAgICA8cG9seWdvbiBpZD0iUGF0aC0yMCIgZmlsbD0iIzAyNjVCNCIgcG9pbnRzPSIyLjM3NjIzNzYyIDgwIDM4LjA0NzY2NjcgODAgNTcuODIxNzgyMiA3My44MDU3NTkyIDU3LjgyMTc4MjIgMzIuNzU5MjczOSAzOS4xNDAyMjc4IDMxLjY4MzE2ODMiPjwvcG9seWdvbj4KICAgICAgICAgICAgICAgIDxwYXRoIGQ9Ik0zNS4wMDc3MTgsODAgQzQyLjkwNjIwMDcsNzYuNDU0OTM1OCA0Ny41NjQ5MTY3LDcxLjU0MjI2NzEgNDguOTgzODY2LDY1LjI2MTk5MzkgQzUxLjExMjI4OTksNTUuODQxNTg0MiA0MS42NzcxNzk1LDQ5LjIxMjIyODQgMjUuNjIzOTg0Niw0OS4yMTIyMjg0IEMyNS40ODQ5Mjg5LDQ5LjEyNjg0NDggMjkuODI2MTI5Niw0My4yODM4MjQ4IDM4LjY0NzU4NjksMzEuNjgzMTY4MyBMNzIuODcxMjg3MSwzMi41NTQ0MjUgTDY1LjI4MDk3Myw2Ny42NzYzNDIxIEw1MS4xMTIyODk5LDc3LjM3NjE0NCBMMzUuMDA3NzE4LDgwIFoiIGlkPSJQYXRoLTIyIiBmaWxsPSIjMDAyODY4Ij48L3BhdGg+CiAgICAgICAgICAgICAgICA8cGF0aCBkPSJNMCwzNy43MzA0NDA1IEwyNy4xMTQ1MzcsMC4yNTcxMTE0MzYgQzYyLjM3MTUxMjMsLTEuOTkwNzE3MDEgODAsMTAuNTAwMzkyNyA4MCwzNy43MzA0NDA1IEM4MCw2NC45NjA0ODgyIDY0Ljc3NjUwMzgsNzkuMDUwMzQxNCAzNC4zMjk1MTEzLDgwIEM0Ny4wNTUzNDg5LDc3LjU2NzA4MDggNTMuNDE4MjY3Nyw3MC4zMTM2MTAzIDUzLjQxODI2NzcsNTguMjM5NTg4NSBDNTMuNDE4MjY3Nyw0MC4xMjg1NTU3IDM2LjMwMzk1NDQsMzcuNzMwNDQwNSAyNS4yMjc0MTcsMzcuNzMwNDQwNSBDMTcuODQzMDU4NiwzNy43MzA0NDA1IDkuNDMzOTE5NjYsMzcuNzMwNDQwNSAwLDM3LjczMDQ0MDUgWiIgaWQ9IlBhdGgtMTkiIGZpbGw9IiMzNzkzRUYiPjwvcGF0aD4KICAgICAgICAgICAgPC9nPgogICAgICAgIDwvZz4KICAgIDwvZz4KPC9zdmc+' > </img>\nCreated in <span style='font-weight:600;margin-left:4px;'>Deepnote</span></a>",
   "metadata": {
    "tags": [],
    "created_in_deepnote_cell": true,
    "deepnote_cell_type": "markdown"
   }
  }
 ],
 "nbformat": 4,
 "nbformat_minor": 2,
 "metadata": {
  "orig_nbformat": 2,
  "deepnote": {
   "is_reactive": false
  },
  "deepnote_notebook_id": "ecfa4a30-ab88-49b2-b22e-45fa100f0042",
  "deepnote_execution_queue": []
 }
}